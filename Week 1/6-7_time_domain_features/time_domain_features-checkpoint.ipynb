{
 "cells": [
  {
   "cell_type": "code",
   "execution_count": 3,
   "id": "07d6ca6a-c2eb-4674-806c-ea1118b3fc5e",
   "metadata": {},
   "outputs": [],
   "source": [
    "import pandas as pd\n",
    "import numpy as np\n",
    "import matplotlib.pyplot as plt"
   ]
  },
  {
   "cell_type": "code",
   "execution_count": 4,
   "id": "e4229a96-1e33-48eb-8892-01e9d3823303",
   "metadata": {},
   "outputs": [],
   "source": [
    "emg_data = pd.read_csv(\"../hd_emg_data/isotonic_0_1716326857.csv\", header=None)"
   ]
  },
  {
   "cell_type": "code",
   "execution_count": 5,
   "id": "a8eab2bc-80fb-4738-aaad-0b645008ec79",
   "metadata": {
    "scrolled": true
   },
   "outputs": [
    {
     "data": {
      "text/html": [
       "<div>\n",
       "<style scoped>\n",
       "    .dataframe tbody tr th:only-of-type {\n",
       "        vertical-align: middle;\n",
       "    }\n",
       "\n",
       "    .dataframe tbody tr th {\n",
       "        vertical-align: top;\n",
       "    }\n",
       "\n",
       "    .dataframe thead th {\n",
       "        text-align: right;\n",
       "    }\n",
       "</style>\n",
       "<table border=\"1\" class=\"dataframe\">\n",
       "  <thead>\n",
       "    <tr style=\"text-align: right;\">\n",
       "      <th></th>\n",
       "      <th>0</th>\n",
       "      <th>1</th>\n",
       "      <th>2</th>\n",
       "      <th>3</th>\n",
       "      <th>4</th>\n",
       "      <th>5</th>\n",
       "      <th>6</th>\n",
       "      <th>7</th>\n",
       "      <th>8</th>\n",
       "      <th>9</th>\n",
       "      <th>...</th>\n",
       "      <th>182</th>\n",
       "      <th>183</th>\n",
       "      <th>184</th>\n",
       "      <th>185</th>\n",
       "      <th>186</th>\n",
       "      <th>187</th>\n",
       "      <th>188</th>\n",
       "      <th>189</th>\n",
       "      <th>190</th>\n",
       "      <th>191</th>\n",
       "    </tr>\n",
       "  </thead>\n",
       "  <tbody>\n",
       "    <tr>\n",
       "      <th>0</th>\n",
       "      <td>-257</td>\n",
       "      <td>-4609</td>\n",
       "      <td>-6145</td>\n",
       "      <td>-6657</td>\n",
       "      <td>-5633</td>\n",
       "      <td>1024</td>\n",
       "      <td>-1025</td>\n",
       "      <td>3072</td>\n",
       "      <td>1024</td>\n",
       "      <td>256</td>\n",
       "      <td>...</td>\n",
       "      <td>-2049</td>\n",
       "      <td>-3585</td>\n",
       "      <td>-7425</td>\n",
       "      <td>-2817</td>\n",
       "      <td>-11777</td>\n",
       "      <td>-9217</td>\n",
       "      <td>-1793</td>\n",
       "      <td>-3329</td>\n",
       "      <td>-769</td>\n",
       "      <td>0</td>\n",
       "    </tr>\n",
       "    <tr>\n",
       "      <th>1</th>\n",
       "      <td>0</td>\n",
       "      <td>-4609</td>\n",
       "      <td>-4865</td>\n",
       "      <td>-6657</td>\n",
       "      <td>-4865</td>\n",
       "      <td>1536</td>\n",
       "      <td>256</td>\n",
       "      <td>4352</td>\n",
       "      <td>1280</td>\n",
       "      <td>512</td>\n",
       "      <td>...</td>\n",
       "      <td>-4097</td>\n",
       "      <td>-4097</td>\n",
       "      <td>-8705</td>\n",
       "      <td>-6145</td>\n",
       "      <td>-12801</td>\n",
       "      <td>-12545</td>\n",
       "      <td>-5121</td>\n",
       "      <td>-6145</td>\n",
       "      <td>-3073</td>\n",
       "      <td>-2305</td>\n",
       "    </tr>\n",
       "    <tr>\n",
       "      <th>2</th>\n",
       "      <td>-2561</td>\n",
       "      <td>-4609</td>\n",
       "      <td>-7937</td>\n",
       "      <td>-8961</td>\n",
       "      <td>-7681</td>\n",
       "      <td>-257</td>\n",
       "      <td>-3073</td>\n",
       "      <td>256</td>\n",
       "      <td>1024</td>\n",
       "      <td>512</td>\n",
       "      <td>...</td>\n",
       "      <td>-1025</td>\n",
       "      <td>-513</td>\n",
       "      <td>-2561</td>\n",
       "      <td>-2817</td>\n",
       "      <td>-8705</td>\n",
       "      <td>-8193</td>\n",
       "      <td>-1025</td>\n",
       "      <td>-2817</td>\n",
       "      <td>768</td>\n",
       "      <td>768</td>\n",
       "    </tr>\n",
       "    <tr>\n",
       "      <th>3</th>\n",
       "      <td>-3073</td>\n",
       "      <td>-4609</td>\n",
       "      <td>-7681</td>\n",
       "      <td>-10241</td>\n",
       "      <td>-8449</td>\n",
       "      <td>-1025</td>\n",
       "      <td>-5121</td>\n",
       "      <td>-769</td>\n",
       "      <td>1024</td>\n",
       "      <td>512</td>\n",
       "      <td>...</td>\n",
       "      <td>-2305</td>\n",
       "      <td>-1537</td>\n",
       "      <td>-3329</td>\n",
       "      <td>-4865</td>\n",
       "      <td>-10753</td>\n",
       "      <td>-8961</td>\n",
       "      <td>-4097</td>\n",
       "      <td>-3329</td>\n",
       "      <td>-1537</td>\n",
       "      <td>-1537</td>\n",
       "    </tr>\n",
       "    <tr>\n",
       "      <th>4</th>\n",
       "      <td>-257</td>\n",
       "      <td>-4609</td>\n",
       "      <td>-5121</td>\n",
       "      <td>-7169</td>\n",
       "      <td>-6657</td>\n",
       "      <td>768</td>\n",
       "      <td>-2561</td>\n",
       "      <td>-513</td>\n",
       "      <td>1024</td>\n",
       "      <td>512</td>\n",
       "      <td>...</td>\n",
       "      <td>3072</td>\n",
       "      <td>2816</td>\n",
       "      <td>2304</td>\n",
       "      <td>512</td>\n",
       "      <td>-6145</td>\n",
       "      <td>-4353</td>\n",
       "      <td>-513</td>\n",
       "      <td>512</td>\n",
       "      <td>2816</td>\n",
       "      <td>1792</td>\n",
       "    </tr>\n",
       "  </tbody>\n",
       "</table>\n",
       "<p>5 rows × 192 columns</p>\n",
       "</div>"
      ],
      "text/plain": [
       "    0     1     2      3     4     5     6     7     8    9    ...   182  \\\n",
       "0  -257 -4609 -6145  -6657 -5633  1024 -1025  3072  1024  256  ... -2049   \n",
       "1     0 -4609 -4865  -6657 -4865  1536   256  4352  1280  512  ... -4097   \n",
       "2 -2561 -4609 -7937  -8961 -7681  -257 -3073   256  1024  512  ... -1025   \n",
       "3 -3073 -4609 -7681 -10241 -8449 -1025 -5121  -769  1024  512  ... -2305   \n",
       "4  -257 -4609 -5121  -7169 -6657   768 -2561  -513  1024  512  ...  3072   \n",
       "\n",
       "    183   184   185    186    187   188   189   190   191  \n",
       "0 -3585 -7425 -2817 -11777  -9217 -1793 -3329  -769     0  \n",
       "1 -4097 -8705 -6145 -12801 -12545 -5121 -6145 -3073 -2305  \n",
       "2  -513 -2561 -2817  -8705  -8193 -1025 -2817   768   768  \n",
       "3 -1537 -3329 -4865 -10753  -8961 -4097 -3329 -1537 -1537  \n",
       "4  2816  2304   512  -6145  -4353  -513   512  2816  1792  \n",
       "\n",
       "[5 rows x 192 columns]"
      ]
     },
     "execution_count": 5,
     "metadata": {},
     "output_type": "execute_result"
    }
   ],
   "source": [
    "emg_data.head()"
   ]
  },
  {
   "cell_type": "code",
   "execution_count": 6,
   "id": "f04d6e7d-a70e-47df-898f-dfedb8cd9f2f",
   "metadata": {},
   "outputs": [
    {
     "data": {
      "text/plain": [
       "3121.0424469413233"
      ]
     },
     "execution_count": 6,
     "metadata": {},
     "output_type": "execute_result"
    }
   ],
   "source": [
    "def mAV(electrode, startTrial, endTrial):\n",
    "    emg = np.array(emg_data.iloc[:, electrode - 1])\n",
    "    emgSlice = emg[startTrial - 1 : endTrial]\n",
    "    return (sum(abs(emgSlice))) / len(emgSlice)\n",
    "mAV(23, 6000, 6800)"
   ]
  },
  {
   "cell_type": "code",
   "execution_count": 20,
   "id": "d5a3004b-08bb-4248-91a8-378019aa9710",
   "metadata": {},
   "outputs": [
    {
     "data": {
      "text/plain": [
       "188"
      ]
     },
     "execution_count": 20,
     "metadata": {},
     "output_type": "execute_result"
    }
   ],
   "source": [
    "def ZC(electrode, startTrial, endTrial, threshold):\n",
    "    emg = np.array(emg_data.iloc[:, electrode - 1])\n",
    "    emgSlice = emg[startTrial - 1 : endTrial]\n",
    "    crossings = 0\n",
    "    for i in range(len(emgSlice) - 1):\n",
    "        if (emgSlice[i] > 0 and emgSlice[i + 1] < 0) or (emgSlice[i] < 0 and emgSlice[i + 1] > 0):\n",
    "            if abs(emgSlice[i] - emgSlice[i + 1]) >= threshold:\n",
    "                crossings += 1\n",
    "    return crossings\n",
    "\n",
    "ZC(23, 6000, 6800, 0.015)\n",
    "                "
   ]
  },
  {
   "cell_type": "code",
   "execution_count": 37,
   "id": "2e89e79a-6ef7-4d21-b54e-670f58ce56bb",
   "metadata": {},
   "outputs": [
    {
     "data": {
      "text/plain": [
       "407"
      ]
     },
     "execution_count": 37,
     "metadata": {},
     "output_type": "execute_result"
    }
   ],
   "source": [
    "def slopeSign(electrode, startTrial, endTrial, threshold):\n",
    "    emg = np.array(emg_data.iloc[:, electrode - 1])\n",
    "    emgSlice = emg[startTrial - 1 : endTrial]\n",
    "    count = 0\n",
    "    for i in range(1, len(emgSlice) - 1):\n",
    "        if (emgSlice[i] > emgSlice[i - 1] and emgSlice[i] > emgSlice[i + 1]) or (emgSlice[i] < emgSlice[i - 1] and emgSlice[i] < emgSlice[i + 1]):\n",
    "            if (abs(emgSlice[i] - emgSlice[i + 1]) >= threshold) or (abs(emgSlice[i] - emgSlice[i - 1]) >= threshold):\n",
    "                count += 1\n",
    "    return count\n",
    "\n",
    "slopeSign(23, 6000, 6800, 0.015)"
   ]
  },
  {
   "cell_type": "code",
   "execution_count": 38,
   "id": "5645a60a-a27c-4834-a75a-b4d1bb1e8492",
   "metadata": {},
   "outputs": [
    {
     "data": {
      "text/plain": [
       "2064337"
      ]
     },
     "execution_count": 38,
     "metadata": {},
     "output_type": "execute_result"
    }
   ],
   "source": [
    "def waveLen(electrode, startTrial, endTrial):\n",
    "    emg = np.array(emg_data.iloc[:, electrode - 1])\n",
    "    emgSlice = emg[startTrial - 1 : endTrial]\n",
    "    sum = 0\n",
    "    for i in range(1, len(emgSlice)):\n",
    "        delta_x = emgSlice[i] - emgSlice[i - 1]\n",
    "        sum += abs(delta_x)\n",
    "    return sum\n",
    "waveLen(23, 6000, 6800)"
   ]
  }
 ],
 "metadata": {
  "kernelspec": {
   "display_name": "Python 3 (ipykernel)",
   "language": "python",
   "name": "python3"
  },
  "language_info": {
   "codemirror_mode": {
    "name": "ipython",
    "version": 3
   },
   "file_extension": ".py",
   "mimetype": "text/x-python",
   "name": "python",
   "nbconvert_exporter": "python",
   "pygments_lexer": "ipython3",
   "version": "3.11.6"
  }
 },
 "nbformat": 4,
 "nbformat_minor": 5
}
